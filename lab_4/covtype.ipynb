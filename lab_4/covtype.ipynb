{
 "cells": [
  {
   "cell_type": "code",
   "execution_count": 1,
   "id": "809e8b5a-e836-4ca3-b580-0118fd42d26d",
   "metadata": {},
   "outputs": [],
   "source": [
    "import warnings\n",
    "warnings.filterwarnings(\"ignore\")"
   ]
  },
  {
   "cell_type": "code",
   "execution_count": 2,
   "id": "560de5a2-6dd3-4976-a65d-120a46a7e647",
   "metadata": {},
   "outputs": [],
   "source": [
    "from sklearn.datasets import fetch_covtype\n",
    "import numpy as np\n",
    "import matplotlib.pyplot as plt\n",
    "from sklearn.svm import LinearSVC\n",
    "from sklearn.svm import SVC\n",
    "from sklearn.neural_network import MLPClassifier\n",
    "from sklearn.model_selection import GridSearchCV\n",
    "from sklearn.linear_model import LogisticRegression\n",
    "from sklearn.ensemble import StackingClassifier \n",
    "from sklearn.ensemble import GradientBoostingClassifier\n",
    "from sklearn.tree import DecisionTreeClassifier\n",
    "\n",
    "from sklearn.model_selection import cross_val_score\n",
    "from sklearn.model_selection import train_test_split\n",
    "from sklearn.metrics import f1_score, recall_score, precision_score, auc, confusion_matrix, precision_recall_curve, roc_curve, PrecisionRecallDisplay, RocCurveDisplay, classification_report\n",
    "\n",
    "from mlxtend.preprocessing import MeanCenterer\n",
    "from mlxtend.evaluate import bias_variance_decomp\n",
    "from sklearn import preprocessing\n",
    "\n",
    "import pandas as pd\n",
    "import numpy as np\n",
    "import matplotlib.pyplot as plt\n"
   ]
  },
  {
   "cell_type": "code",
   "execution_count": 3,
   "id": "c6684ae4-230c-4496-81ef-4d2a3a3e7b23",
   "metadata": {},
   "outputs": [
    {
     "data": {
      "text/html": [
       "<div>\n",
       "<style scoped>\n",
       "    .dataframe tbody tr th:only-of-type {\n",
       "        vertical-align: middle;\n",
       "    }\n",
       "\n",
       "    .dataframe tbody tr th {\n",
       "        vertical-align: top;\n",
       "    }\n",
       "\n",
       "    .dataframe thead th {\n",
       "        text-align: right;\n",
       "    }\n",
       "</style>\n",
       "<table border=\"1\" class=\"dataframe\">\n",
       "  <thead>\n",
       "    <tr style=\"text-align: right;\">\n",
       "      <th></th>\n",
       "      <th>Elevation</th>\n",
       "      <th>Aspect</th>\n",
       "      <th>Slope</th>\n",
       "      <th>Horizontal_Distance_To_Hydrology</th>\n",
       "      <th>Vertical_Distance_To_Hydrology</th>\n",
       "      <th>Horizontal_Distance_To_Roadways</th>\n",
       "      <th>Hillshade_9am</th>\n",
       "      <th>Hillshade_Noon</th>\n",
       "      <th>Hillshade_3pm</th>\n",
       "      <th>Horizontal_Distance_To_Fire_Points</th>\n",
       "      <th>...</th>\n",
       "      <th>Soil_Type_30</th>\n",
       "      <th>Soil_Type_31</th>\n",
       "      <th>Soil_Type_32</th>\n",
       "      <th>Soil_Type_33</th>\n",
       "      <th>Soil_Type_34</th>\n",
       "      <th>Soil_Type_35</th>\n",
       "      <th>Soil_Type_36</th>\n",
       "      <th>Soil_Type_37</th>\n",
       "      <th>Soil_Type_38</th>\n",
       "      <th>Soil_Type_39</th>\n",
       "    </tr>\n",
       "  </thead>\n",
       "  <tbody>\n",
       "    <tr>\n",
       "      <th>0</th>\n",
       "      <td>-0.763764</td>\n",
       "      <td>1.739218</td>\n",
       "      <td>-0.420983</td>\n",
       "      <td>-0.281434</td>\n",
       "      <td>0.126047</td>\n",
       "      <td>0.341298</td>\n",
       "      <td>-0.447060</td>\n",
       "      <td>-0.109054</td>\n",
       "      <td>0.429394</td>\n",
       "      <td>-0.622925</td>\n",
       "      <td>...</td>\n",
       "      <td>-0.213373</td>\n",
       "      <td>3.291351</td>\n",
       "      <td>-0.295297</td>\n",
       "      <td>-0.05255</td>\n",
       "      <td>-0.043553</td>\n",
       "      <td>-0.01312</td>\n",
       "      <td>-0.018557</td>\n",
       "      <td>-0.166652</td>\n",
       "      <td>-0.160552</td>\n",
       "      <td>-0.126845</td>\n",
       "    </tr>\n",
       "    <tr>\n",
       "      <th>1</th>\n",
       "      <td>0.982680</td>\n",
       "      <td>0.847594</td>\n",
       "      <td>0.501406</td>\n",
       "      <td>2.086159</td>\n",
       "      <td>2.079024</td>\n",
       "      <td>2.480204</td>\n",
       "      <td>-1.301597</td>\n",
       "      <td>1.282825</td>\n",
       "      <td>1.725586</td>\n",
       "      <td>-0.128980</td>\n",
       "      <td>...</td>\n",
       "      <td>-0.213373</td>\n",
       "      <td>-0.303827</td>\n",
       "      <td>-0.295297</td>\n",
       "      <td>-0.05255</td>\n",
       "      <td>-0.043553</td>\n",
       "      <td>-0.01312</td>\n",
       "      <td>-0.018557</td>\n",
       "      <td>-0.166652</td>\n",
       "      <td>-0.160552</td>\n",
       "      <td>-0.126845</td>\n",
       "    </tr>\n",
       "    <tr>\n",
       "      <th>2</th>\n",
       "      <td>-0.810098</td>\n",
       "      <td>-0.810827</td>\n",
       "      <td>-0.420983</td>\n",
       "      <td>-0.206273</td>\n",
       "      <td>0.142883</td>\n",
       "      <td>-1.352351</td>\n",
       "      <td>0.704706</td>\n",
       "      <td>-0.307894</td>\n",
       "      <td>-0.659407</td>\n",
       "      <td>0.010646</td>\n",
       "      <td>...</td>\n",
       "      <td>-0.213373</td>\n",
       "      <td>-0.303827</td>\n",
       "      <td>-0.295297</td>\n",
       "      <td>-0.05255</td>\n",
       "      <td>-0.043553</td>\n",
       "      <td>-0.01312</td>\n",
       "      <td>-0.018557</td>\n",
       "      <td>-0.166652</td>\n",
       "      <td>-0.160552</td>\n",
       "      <td>-0.126845</td>\n",
       "    </tr>\n",
       "    <tr>\n",
       "      <th>3</th>\n",
       "      <td>-1.330467</td>\n",
       "      <td>-0.436345</td>\n",
       "      <td>-1.475143</td>\n",
       "      <td>-1.136399</td>\n",
       "      <td>-0.917786</td>\n",
       "      <td>-0.903238</td>\n",
       "      <td>0.481784</td>\n",
       "      <td>0.636595</td>\n",
       "      <td>0.092384</td>\n",
       "      <td>0.098475</td>\n",
       "      <td>...</td>\n",
       "      <td>-0.213373</td>\n",
       "      <td>-0.303827</td>\n",
       "      <td>-0.295297</td>\n",
       "      <td>-0.05255</td>\n",
       "      <td>-0.043553</td>\n",
       "      <td>-0.01312</td>\n",
       "      <td>-0.018557</td>\n",
       "      <td>-0.166652</td>\n",
       "      <td>-0.160552</td>\n",
       "      <td>-0.126845</td>\n",
       "    </tr>\n",
       "    <tr>\n",
       "      <th>4</th>\n",
       "      <td>1.100297</td>\n",
       "      <td>0.811929</td>\n",
       "      <td>1.160256</td>\n",
       "      <td>-0.516315</td>\n",
       "      <td>0.008195</td>\n",
       "      <td>-0.067336</td>\n",
       "      <td>-1.710288</td>\n",
       "      <td>1.332535</td>\n",
       "      <td>1.932977</td>\n",
       "      <td>0.756818</td>\n",
       "      <td>...</td>\n",
       "      <td>-0.213373</td>\n",
       "      <td>-0.303827</td>\n",
       "      <td>-0.295297</td>\n",
       "      <td>-0.05255</td>\n",
       "      <td>-0.043553</td>\n",
       "      <td>-0.01312</td>\n",
       "      <td>-0.018557</td>\n",
       "      <td>-0.166652</td>\n",
       "      <td>-0.160552</td>\n",
       "      <td>-0.126845</td>\n",
       "    </tr>\n",
       "    <tr>\n",
       "      <th>...</th>\n",
       "      <td>...</td>\n",
       "      <td>...</td>\n",
       "      <td>...</td>\n",
       "      <td>...</td>\n",
       "      <td>...</td>\n",
       "      <td>...</td>\n",
       "      <td>...</td>\n",
       "      <td>...</td>\n",
       "      <td>...</td>\n",
       "      <td>...</td>\n",
       "      <td>...</td>\n",
       "      <td>...</td>\n",
       "      <td>...</td>\n",
       "      <td>...</td>\n",
       "      <td>...</td>\n",
       "      <td>...</td>\n",
       "      <td>...</td>\n",
       "      <td>...</td>\n",
       "      <td>...</td>\n",
       "      <td>...</td>\n",
       "      <td>...</td>\n",
       "    </tr>\n",
       "    <tr>\n",
       "      <th>5805</th>\n",
       "      <td>0.947038</td>\n",
       "      <td>-0.436345</td>\n",
       "      <td>-0.157444</td>\n",
       "      <td>0.061491</td>\n",
       "      <td>-1.069310</td>\n",
       "      <td>-0.467618</td>\n",
       "      <td>1.076244</td>\n",
       "      <td>0.089786</td>\n",
       "      <td>-0.814950</td>\n",
       "      <td>0.523358</td>\n",
       "      <td>...</td>\n",
       "      <td>-0.213373</td>\n",
       "      <td>-0.303827</td>\n",
       "      <td>-0.295297</td>\n",
       "      <td>-0.05255</td>\n",
       "      <td>-0.043553</td>\n",
       "      <td>-0.01312</td>\n",
       "      <td>-0.018557</td>\n",
       "      <td>-0.166652</td>\n",
       "      <td>-0.160552</td>\n",
       "      <td>-0.126845</td>\n",
       "    </tr>\n",
       "    <tr>\n",
       "      <th>5806</th>\n",
       "      <td>1.667000</td>\n",
       "      <td>-0.534423</td>\n",
       "      <td>1.555566</td>\n",
       "      <td>0.413811</td>\n",
       "      <td>2.398908</td>\n",
       "      <td>1.000510</td>\n",
       "      <td>1.447782</td>\n",
       "      <td>-1.451222</td>\n",
       "      <td>-2.292609</td>\n",
       "      <td>1.137411</td>\n",
       "      <td>...</td>\n",
       "      <td>-0.213373</td>\n",
       "      <td>-0.303827</td>\n",
       "      <td>-0.295297</td>\n",
       "      <td>-0.05255</td>\n",
       "      <td>-0.043553</td>\n",
       "      <td>-0.01312</td>\n",
       "      <td>-0.018557</td>\n",
       "      <td>-0.166652</td>\n",
       "      <td>6.228525</td>\n",
       "      <td>-0.126845</td>\n",
       "    </tr>\n",
       "    <tr>\n",
       "      <th>5807</th>\n",
       "      <td>1.720463</td>\n",
       "      <td>1.569809</td>\n",
       "      <td>-0.289213</td>\n",
       "      <td>2.532432</td>\n",
       "      <td>0.951011</td>\n",
       "      <td>-0.518376</td>\n",
       "      <td>-0.744290</td>\n",
       "      <td>0.089786</td>\n",
       "      <td>0.740480</td>\n",
       "      <td>-0.341421</td>\n",
       "      <td>...</td>\n",
       "      <td>-0.213373</td>\n",
       "      <td>-0.303827</td>\n",
       "      <td>-0.295297</td>\n",
       "      <td>-0.05255</td>\n",
       "      <td>-0.043553</td>\n",
       "      <td>-0.01312</td>\n",
       "      <td>-0.018557</td>\n",
       "      <td>6.000531</td>\n",
       "      <td>-0.160552</td>\n",
       "      <td>-0.126845</td>\n",
       "    </tr>\n",
       "    <tr>\n",
       "      <th>5808</th>\n",
       "      <td>-1.202156</td>\n",
       "      <td>-0.516591</td>\n",
       "      <td>-0.816293</td>\n",
       "      <td>0.240000</td>\n",
       "      <td>0.580619</td>\n",
       "      <td>-0.874968</td>\n",
       "      <td>0.779014</td>\n",
       "      <td>0.288626</td>\n",
       "      <td>-0.374245</td>\n",
       "      <td>-1.110865</td>\n",
       "      <td>...</td>\n",
       "      <td>-0.213373</td>\n",
       "      <td>-0.303827</td>\n",
       "      <td>-0.295297</td>\n",
       "      <td>-0.05255</td>\n",
       "      <td>-0.043553</td>\n",
       "      <td>-0.01312</td>\n",
       "      <td>-0.018557</td>\n",
       "      <td>-0.166652</td>\n",
       "      <td>-0.160552</td>\n",
       "      <td>-0.126845</td>\n",
       "    </tr>\n",
       "    <tr>\n",
       "      <th>5809</th>\n",
       "      <td>0.433797</td>\n",
       "      <td>-1.247723</td>\n",
       "      <td>0.237866</td>\n",
       "      <td>1.517749</td>\n",
       "      <td>4.267705</td>\n",
       "      <td>-0.824852</td>\n",
       "      <td>-0.261291</td>\n",
       "      <td>-0.954123</td>\n",
       "      <td>-0.270549</td>\n",
       "      <td>-0.520833</td>\n",
       "      <td>...</td>\n",
       "      <td>4.686622</td>\n",
       "      <td>-0.303827</td>\n",
       "      <td>-0.295297</td>\n",
       "      <td>-0.05255</td>\n",
       "      <td>-0.043553</td>\n",
       "      <td>-0.01312</td>\n",
       "      <td>-0.018557</td>\n",
       "      <td>-0.166652</td>\n",
       "      <td>-0.160552</td>\n",
       "      <td>-0.126845</td>\n",
       "    </tr>\n",
       "  </tbody>\n",
       "</table>\n",
       "<p>5810 rows × 54 columns</p>\n",
       "</div>"
      ],
      "text/plain": [
       "      Elevation    Aspect     Slope  Horizontal_Distance_To_Hydrology  \\\n",
       "0     -0.763764  1.739218 -0.420983                         -0.281434   \n",
       "1      0.982680  0.847594  0.501406                          2.086159   \n",
       "2     -0.810098 -0.810827 -0.420983                         -0.206273   \n",
       "3     -1.330467 -0.436345 -1.475143                         -1.136399   \n",
       "4      1.100297  0.811929  1.160256                         -0.516315   \n",
       "...         ...       ...       ...                               ...   \n",
       "5805   0.947038 -0.436345 -0.157444                          0.061491   \n",
       "5806   1.667000 -0.534423  1.555566                          0.413811   \n",
       "5807   1.720463  1.569809 -0.289213                          2.532432   \n",
       "5808  -1.202156 -0.516591 -0.816293                          0.240000   \n",
       "5809   0.433797 -1.247723  0.237866                          1.517749   \n",
       "\n",
       "      Vertical_Distance_To_Hydrology  Horizontal_Distance_To_Roadways  \\\n",
       "0                           0.126047                         0.341298   \n",
       "1                           2.079024                         2.480204   \n",
       "2                           0.142883                        -1.352351   \n",
       "3                          -0.917786                        -0.903238   \n",
       "4                           0.008195                        -0.067336   \n",
       "...                              ...                              ...   \n",
       "5805                       -1.069310                        -0.467618   \n",
       "5806                        2.398908                         1.000510   \n",
       "5807                        0.951011                        -0.518376   \n",
       "5808                        0.580619                        -0.874968   \n",
       "5809                        4.267705                        -0.824852   \n",
       "\n",
       "      Hillshade_9am  Hillshade_Noon  Hillshade_3pm  \\\n",
       "0         -0.447060       -0.109054       0.429394   \n",
       "1         -1.301597        1.282825       1.725586   \n",
       "2          0.704706       -0.307894      -0.659407   \n",
       "3          0.481784        0.636595       0.092384   \n",
       "4         -1.710288        1.332535       1.932977   \n",
       "...             ...             ...            ...   \n",
       "5805       1.076244        0.089786      -0.814950   \n",
       "5806       1.447782       -1.451222      -2.292609   \n",
       "5807      -0.744290        0.089786       0.740480   \n",
       "5808       0.779014        0.288626      -0.374245   \n",
       "5809      -0.261291       -0.954123      -0.270549   \n",
       "\n",
       "      Horizontal_Distance_To_Fire_Points  ...  Soil_Type_30  Soil_Type_31  \\\n",
       "0                              -0.622925  ...     -0.213373      3.291351   \n",
       "1                              -0.128980  ...     -0.213373     -0.303827   \n",
       "2                               0.010646  ...     -0.213373     -0.303827   \n",
       "3                               0.098475  ...     -0.213373     -0.303827   \n",
       "4                               0.756818  ...     -0.213373     -0.303827   \n",
       "...                                  ...  ...           ...           ...   \n",
       "5805                            0.523358  ...     -0.213373     -0.303827   \n",
       "5806                            1.137411  ...     -0.213373     -0.303827   \n",
       "5807                           -0.341421  ...     -0.213373     -0.303827   \n",
       "5808                           -1.110865  ...     -0.213373     -0.303827   \n",
       "5809                           -0.520833  ...      4.686622     -0.303827   \n",
       "\n",
       "      Soil_Type_32  Soil_Type_33  Soil_Type_34  Soil_Type_35  Soil_Type_36  \\\n",
       "0        -0.295297      -0.05255     -0.043553      -0.01312     -0.018557   \n",
       "1        -0.295297      -0.05255     -0.043553      -0.01312     -0.018557   \n",
       "2        -0.295297      -0.05255     -0.043553      -0.01312     -0.018557   \n",
       "3        -0.295297      -0.05255     -0.043553      -0.01312     -0.018557   \n",
       "4        -0.295297      -0.05255     -0.043553      -0.01312     -0.018557   \n",
       "...            ...           ...           ...           ...           ...   \n",
       "5805     -0.295297      -0.05255     -0.043553      -0.01312     -0.018557   \n",
       "5806     -0.295297      -0.05255     -0.043553      -0.01312     -0.018557   \n",
       "5807     -0.295297      -0.05255     -0.043553      -0.01312     -0.018557   \n",
       "5808     -0.295297      -0.05255     -0.043553      -0.01312     -0.018557   \n",
       "5809     -0.295297      -0.05255     -0.043553      -0.01312     -0.018557   \n",
       "\n",
       "      Soil_Type_37  Soil_Type_38  Soil_Type_39  \n",
       "0        -0.166652     -0.160552     -0.126845  \n",
       "1        -0.166652     -0.160552     -0.126845  \n",
       "2        -0.166652     -0.160552     -0.126845  \n",
       "3        -0.166652     -0.160552     -0.126845  \n",
       "4        -0.166652     -0.160552     -0.126845  \n",
       "...            ...           ...           ...  \n",
       "5805     -0.166652     -0.160552     -0.126845  \n",
       "5806     -0.166652      6.228525     -0.126845  \n",
       "5807      6.000531     -0.160552     -0.126845  \n",
       "5808     -0.166652     -0.160552     -0.126845  \n",
       "5809     -0.166652     -0.160552     -0.126845  \n",
       "\n",
       "[5810 rows x 54 columns]"
      ]
     },
     "execution_count": 3,
     "metadata": {},
     "output_type": "execute_result"
    }
   ],
   "source": [
    "X, Y = fetch_covtype(return_X_y=True, as_frame=True)\n",
    "X, _, Y, _ =train_test_split(X, Y, train_size=0.01)\n",
    "Xt = preprocessing.scale(X, with_mean=True, with_std=True)\n",
    "X = pd.DataFrame(Xt, columns = X.columns)\n",
    "X"
   ]
  },
  {
   "cell_type": "code",
   "execution_count": 4,
   "id": "1380aba3-7816-4346-8da0-c364d0fd599a",
   "metadata": {},
   "outputs": [],
   "source": [
    "X_train, X_tmp, Y_train, Y_tmp = train_test_split(X, Y, train_size=0.333)\n",
    "X_test, X_check, Y_test, Y_check = train_test_split(X_tmp, Y_tmp, train_size=0.5)"
   ]
  },
  {
   "cell_type": "markdown",
   "id": "f38f97ec-5b4a-41a3-a23a-7e824ee5a151",
   "metadata": {},
   "source": [
    "# Building MLPClassifier with GridSearch"
   ]
  },
  {
   "cell_type": "code",
   "execution_count": 5,
   "id": "df1c32f9-b1d8-4e29-8e0c-88206d6b24b4",
   "metadata": {},
   "outputs": [],
   "source": [
    "clf = MLPClassifier(warm_start=True)\n",
    "params = {\n",
    "    'learning_rate': ['constant', 'invscaling', 'adaptive'],\n",
    "    'solver': ['sgd'],\n",
    "    'max_iter': [300, 400]\n",
    "}\n",
    "cv = GridSearchCV(clf, params).fit(X_check, Y_check)"
   ]
  },
  {
   "cell_type": "code",
   "execution_count": 6,
   "id": "76879e84-bda3-4d79-8dcb-dde54680ac80",
   "metadata": {},
   "outputs": [
    {
     "data": {
      "text/plain": [
       "{'learning_rate': 'adaptive', 'max_iter': 400, 'solver': 'sgd'}"
      ]
     },
     "execution_count": 6,
     "metadata": {},
     "output_type": "execute_result"
    }
   ],
   "source": [
    "cv.best_params_"
   ]
  },
  {
   "cell_type": "code",
   "execution_count": 7,
   "id": "c339cd77-a2f9-49f8-af2c-c3a65c6f8304",
   "metadata": {},
   "outputs": [
    {
     "name": "stdout",
     "output_type": "stream",
     "text": [
      "              precision    recall  f1-score   support\n",
      "\n",
      "           1       0.68      0.67      0.67       697\n",
      "           2       0.74      0.79      0.76       948\n",
      "           3       0.73      0.81      0.77       130\n",
      "           4       0.75      0.30      0.43        10\n",
      "           5       0.00      0.00      0.00        26\n",
      "           6       0.43      0.30      0.36        53\n",
      "           7       0.79      0.55      0.65        74\n",
      "\n",
      "    accuracy                           0.71      1938\n",
      "   macro avg       0.59      0.49      0.52      1938\n",
      "weighted avg       0.70      0.71      0.70      1938\n",
      "\n"
     ]
    }
   ],
   "source": [
    "print(classification_report(Y_test, cv.predict(X_test)))"
   ]
  },
  {
   "cell_type": "code",
   "execution_count": 44,
   "id": "4c930613-1139-42ca-b794-17c8c232dc16",
   "metadata": {},
   "outputs": [
    {
     "data": {
      "text/plain": [
       "[0.5597693339164397,\n",
       " 0.5596740224080071,\n",
       " 0.55946134917314,\n",
       " 0.5591079044741515,\n",
       " 0.5588895618404696,\n",
       " 0.5586918151346537,\n",
       " 0.5584640225608991,\n",
       " 0.5581948566976654,\n",
       " 0.5579772495865194,\n",
       " 0.5578188236851443,\n",
       " 0.5575290162379724,\n",
       " 0.5573635700785617,\n",
       " 0.557192937895696,\n",
       " 0.55689093822552,\n",
       " 0.5567292730029167,\n",
       " 0.5564744514905043,\n",
       " 0.5562633411695571,\n",
       " 0.5560495062047104,\n",
       " 0.5558134760573182,\n",
       " 0.5555810948184156]"
      ]
     },
     "execution_count": 44,
     "metadata": {},
     "output_type": "execute_result"
    }
   ],
   "source": [
    "clf1 = MLPClassifier(warm_start=True, max_iter=400, solver=\"sgd\", learning_rate=\"adaptive\").fit(X_train, Y_train)\n",
    "clf1.loss_curve_[-20:]"
   ]
  },
  {
   "cell_type": "code",
   "execution_count": 45,
   "id": "5b22f567-6826-4c5a-8771-70b0e123e411",
   "metadata": {},
   "outputs": [
    {
     "data": {
      "text/plain": [
       "[<matplotlib.lines.Line2D at 0x7f7b81671480>]"
      ]
     },
     "execution_count": 45,
     "metadata": {},
     "output_type": "execute_result"
    },
    {
     "data": {
      "image/png": "[encoded data removed]",
      "text/plain": [
       "<Figure size 432x288 with 1 Axes>"
      ]
     },
     "metadata": {
      "needs_background": "light"
     },
     "output_type": "display_data"
    }
   ],
   "source": [
    "plt.plot(clf1.loss_curve_)"
   ]
  },
  {
   "cell_type": "code",
   "execution_count": 47,
   "id": "2954d316-427e-4fa6-8be4-f76f62e9753e",
   "metadata": {},
   "outputs": [
    {
     "data": {
      "text/plain": [
       "0.5555810948184156"
      ]
     },
     "execution_count": 47,
     "metadata": {},
     "output_type": "execute_result"
    }
   ],
   "source": [
    "clf1.best_loss_"
   ]
  },
  {
   "cell_type": "markdown",
   "id": "ec39cfbe-e19e-4462-b50c-e8e7d7538815",
   "metadata": {},
   "source": [
    "# Model ansambles\n",
    "\n",
    "## Stacking classifier"
   ]
  },
  {
   "cell_type": "code",
   "execution_count": 8,
   "id": "67f16c6e-af59-4a3a-a968-f7e2ca5d424e",
   "metadata": {},
   "outputs": [],
   "source": [
    "ans_estimators = [\n",
    "    (\"nn\", MLPClassifier(learning_rate=\"constant\", max_iter=500, solver=\"sgd\") ),\n",
    "    (\"svc\", SVC(kernel='poly', C=10, probability=True, degree=1)),\n",
    "    (\"lsvc\", LinearSVC()),\n",
    "]\n",
    "ans_params = {\n",
    "    \"final_estimator\": [LogisticRegression(), LinearSVC()]\n",
    "    #stack method not needed\n",
    "}\n",
    "st_clf = StackingClassifier(ans_estimators)\n",
    "ans_cv = GridSearchCV(st_clf, ans_params).fit(X_train, Y_train)"
   ]
  },
  {
   "cell_type": "code",
   "execution_count": 9,
   "id": "8a4ff4a3-47ab-4083-b71d-7cc839afa317",
   "metadata": {},
   "outputs": [
    {
     "data": {
      "text/plain": [
       "{'final_estimator': LogisticRegression()}"
      ]
     },
     "execution_count": 9,
     "metadata": {},
     "output_type": "execute_result"
    }
   ],
   "source": [
    "ans_cv.best_params_"
   ]
  },
  {
   "cell_type": "code",
   "execution_count": 10,
   "id": "2797a1f9-6259-4496-b5cb-d1c088e9dd23",
   "metadata": {},
   "outputs": [
    {
     "name": "stdout",
     "output_type": "stream",
     "text": [
      "              precision    recall  f1-score   support\n",
      "\n",
      "           1       0.69      0.71      0.70       697\n",
      "           2       0.76      0.79      0.77       948\n",
      "           3       0.71      0.83      0.76       130\n",
      "           4       0.67      0.60      0.63        10\n",
      "           5       0.00      0.00      0.00        26\n",
      "           6       0.60      0.28      0.38        53\n",
      "           7       0.76      0.47      0.58        74\n",
      "\n",
      "    accuracy                           0.73      1938\n",
      "   macro avg       0.60      0.53      0.55      1938\n",
      "weighted avg       0.72      0.73      0.72      1938\n",
      "\n"
     ]
    }
   ],
   "source": [
    "print(classification_report(Y_test, ans_cv.predict(X_test)))"
   ]
  },
  {
   "cell_type": "code",
   "execution_count": 11,
   "id": "85c59f78-d73a-4758-8699-ffedd6855389",
   "metadata": {},
   "outputs": [
    {
     "data": {
      "text/plain": [
       "(0.28708720330237353, 0.26625386996904027, 0.06910990712074304)"
      ]
     },
     "execution_count": 11,
     "metadata": {},
     "output_type": "execute_result"
    }
   ],
   "source": [
    "bias_variance_decomp(LogisticRegression(), X_train.values, Y_train.values, X_test.values, Y_test.values)"
   ]
  },
  {
   "cell_type": "code",
   "execution_count": null,
   "id": "289c0f58-45da-4587-abeb-5013b89928d0",
   "metadata": {},
   "outputs": [],
   "source": [
    "bias_variance_decomp(StackingClassifier(ans_estimators), X_train.values, Y_train.values, X_test.values, Y_test.values)"
   ]
  },
  {
   "cell_type": "markdown",
   "id": "1124b3be-6a0e-47e3-8dd2-6bd0819ca6ab",
   "metadata": {},
   "source": [
    "## Gradient Boosting\n",
    "### dependance of score based on the amount of estimators"
   ]
  },
  {
   "cell_type": "code",
   "execution_count": 15,
   "id": "e09cfb6b-7083-4096-a320-63c1522a4457",
   "metadata": {},
   "outputs": [
    {
     "data": {
      "text/plain": [
       "<matplotlib.legend.Legend at 0x7f7b8314be80>"
      ]
     },
     "execution_count": 15,
     "metadata": {},
     "output_type": "execute_result"
    },
    {
     "data": {
      "image/png": "[encoded data removed]",
      "text/plain": [
       "<Figure size 432x288 with 1 Axes>"
      ]
     },
     "metadata": {
      "needs_background": "light"
     },
     "output_type": "display_data"
    }
   ],
   "source": [
    "results_p = []\n",
    "results_r = []\n",
    "results_f = []\n",
    "X=[10, 100, 200, 300, 400, 500, 600, 700]\n",
    "for i in X:\n",
    "    grad_clf = GradientBoostingClassifier(n_estimators=i).fit(X_train, Y_train)\n",
    "    results_p.append(precision_score(Y_test, grad_clf.predict(X_test), average=\"macro\"))\n",
    "    results_r.append(recall_score(Y_test, grad_clf.predict(X_test), average=\"macro\"))\n",
    "    results_f.append(f1_score(Y_test, grad_clf.predict(X_test), average=\"macro\"))\n",
    "\n",
    "plt.plot(X, results_p, label=\"precision\")\n",
    "plt.plot(X, results_r, label=\"recall\")\n",
    "plt.plot(X, results_f, label=\"f1 score\")\n",
    "plt.legend()\n"
   ]
  },
  {
   "cell_type": "code",
   "execution_count": 16,
   "id": "b990719c-469f-4d35-833f-3648d4f31c3c",
   "metadata": {},
   "outputs": [
    {
     "data": {
      "text/plain": [
       "(0.294703302373581, 0.2708978328173375, 0.11473426212590299)"
      ]
     },
     "execution_count": 16,
     "metadata": {},
     "output_type": "execute_result"
    }
   ],
   "source": [
    "bias_variance_decomp(GradientBoostingClassifier(n_estimators=200), X_train.values, Y_train.values, X_test.values, Y_test.values)"
   ]
  },
  {
   "cell_type": "code",
   "execution_count": 18,
   "id": "1738f15c-6a11-4920-849b-6de9435a8b11",
   "metadata": {},
   "outputs": [
    {
     "data": {
      "text/plain": [
       "(0.3712487100103199, 0.2564499484004128, 0.26969814241486073)"
      ]
     },
     "execution_count": 18,
     "metadata": {},
     "output_type": "execute_result"
    }
   ],
   "source": [
    "bias_variance_decomp(DecisionTreeClassifier(), X_train.values, Y_train.values, X_test.values, Y_test.values)"
   ]
  },
  {
   "cell_type": "markdown",
   "id": "516648c2-f973-4762-9c2a-9541635b76a8",
   "metadata": {},
   "source": [
    "# Conclusion\n",
    "\n",
    "Моделі на основі ансамблей навчаються набагато довше за стандартні моделі, але дають кращі результати і менше перенавчаються"
   ]
  }
 ],
 "metadata": {
  "kernelspec": {
   "display_name": "Python 3 (ipykernel)",
   "language": "python",
   "name": "python3"
  },
  "language_info": {
   "codemirror_mode": {
    "name": "ipython",
    "version": 3
   },
   "file_extension": ".py",
   "mimetype": "text/x-python",
   "name": "python",
   "nbconvert_exporter": "python",
   "pygments_lexer": "ipython3",
   "version": "3.10.1"
  }
 },
 "nbformat": 4,
 "nbformat_minor": 5
}
