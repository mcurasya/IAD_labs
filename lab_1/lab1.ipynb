{
 "cells": [
  {
   "cell_type": "markdown",
   "id": "03492563",
   "metadata": {},
   "source": [
    "# Лабораторна робота №1 \n",
    "# Воробйов Георгій\n",
    "# Група КА-91\n",
    "# Варіант 4"
   ]
  },
  {
   "cell_type": "markdown",
   "id": "350125de",
   "metadata": {},
   "source": [
    "# Умова\n",
    "Дано масив T, який складається з N рядкiв, якi вiдповiдають прикладам, i m стовпчикiв, якi вiдповiдають ознакам. Вiдомо, що ознака x<sub>h</sub> приймає значення з множини {c<sub>h<sub>1</sub></sub>, c<sub>h<sub>2</sub></sub>, ..., c<sub>h<sub>q<sub>h</sub></sub></sub>}. Дано вектор y розмiрностi N, елементи якого приймають значення з множини S = {s<sub>1</sub>, s<sub>2</sub>, ..., s<sub>v</sub>} (мiтки класiв для прикладiв). Знайти ознаку x<sup>*</sup><sub>h</sub> та значення цiєї ознаки с<sub>hi</sub><sup>∗</sup>:\n",
    "\n",
    "$$c^*_{hi} = \\arg\\min_{h, i}Er(h, i)$$\n",
    "\n",
    "$$Er(h, i) = \\frac{p_3(y \\neq s_j^* \\vert x_h = c_{hi})}{p_1(x_h = c_{hi})}$$\n",
    "\n",
    "$$s_j^* = \\arg\\max_j p_2(y=s_j \\vert x_h = c_{hi})$$\n",
    "\n",
    "де $p_1(x_h = c_{hi})$ - кiлькiсть прикладiв, для яких ознака $x_h$ приймає значення $c_{hi}$, $p_2(y = s_j\\vert x_h = c_{hi})$ - кiлькiсть прикладiв, якi належать класу $s_j$ i ознака $x_h$ приймає значення $c_{hi}$, $s^∗_j$ - найбiльш iмовiрний клас за умови\n",
    "що ознака $x_h$ приймає значення $c_{hi}$."
   ]
  },
  {
   "cell_type": "markdown",
   "id": "604a497e-72bf-4cf1-8473-f016258b1793",
   "metadata": {},
   "source": [
    "Import important stuff"
   ]
  },
  {
   "cell_type": "code",
   "execution_count": 1,
   "id": "c758663b-a53a-4f21-a0e0-76e8c7115cba",
   "metadata": {},
   "outputs": [],
   "source": [
    "import numpy as np\n",
    "import pandas as pd\n",
    "import matplotlib.pyplot as plt\n",
    "from IPython.display import display, Math\n",
    "N = 5\n",
    "M = 10"
   ]
  },
  {
   "cell_type": "markdown",
   "id": "f2cd0faf",
   "metadata": {},
   "source": [
    "Generate random data"
   ]
  },
  {
   "cell_type": "code",
   "execution_count": 2,
   "id": "f696a562",
   "metadata": {
    "scrolled": true
   },
   "outputs": [
    {
     "data": {
      "text/plain": [
       "array([[8, 5, 4, 5, 6, 2, 3, 6, 7, 4],\n",
       "       [6, 1, 5, 4, 1, 9, 6, 1, 3, 6],\n",
       "       [4, 7, 5, 2, 2, 5, 4, 5, 2, 9],\n",
       "       [6, 9, 9, 1, 2, 3, 4, 8, 4, 4],\n",
       "       [4, 5, 3, 4, 1, 3, 2, 6, 8, 8]])"
      ]
     },
     "execution_count": 2,
     "metadata": {},
     "output_type": "execute_result"
    }
   ],
   "source": [
    "X = np.random.randint(1, 10, (N, M))\n",
    "X"
   ]
  },
  {
   "cell_type": "code",
   "execution_count": 3,
   "id": "bb4d2ecb",
   "metadata": {},
   "outputs": [
    {
     "data": {
      "text/plain": [
       "array([9, 1, 3, 4, 7])"
      ]
     },
     "execution_count": 3,
     "metadata": {},
     "output_type": "execute_result"
    }
   ],
   "source": [
    "Y = np.random.randint(1, 10, N)\n",
    "S = np.unique(Y)\n",
    "Y"
   ]
  },
  {
   "cell_type": "markdown",
   "id": "5715bddc",
   "metadata": {},
   "source": [
    "Get the values for $c_{hi}$ (unique values of a column)"
   ]
  },
  {
   "cell_type": "markdown",
   "id": "ad60f425",
   "metadata": {},
   "source": [
    "Find $s_j^*$ common values for each value of S(calculate $p_2$)"
   ]
  },
  {
   "cell_type": "code",
   "execution_count": 4,
   "id": "cd0b13e5",
   "metadata": {},
   "outputs": [
    {
     "data": {
      "text/plain": [
       "[array([4, 6, 8]),\n",
       " array([1, 5, 7, 9]),\n",
       " array([3, 4, 5, 9]),\n",
       " array([1, 2, 4, 5]),\n",
       " array([1, 2, 6]),\n",
       " array([2, 3, 5, 9]),\n",
       " array([2, 3, 4, 6]),\n",
       " array([1, 5, 6, 8]),\n",
       " array([2, 3, 4, 7, 8]),\n",
       " array([4, 6, 8, 9])]"
      ]
     },
     "execution_count": 4,
     "metadata": {},
     "output_type": "execute_result"
    }
   ],
   "source": [
    "C = []\n",
    "for i in range(X.shape[1]):\n",
    "    C.append(np.unique(X[:, i] ))\n",
    "C"
   ]
  },
  {
   "cell_type": "markdown",
   "id": "a4f01f6d",
   "metadata": {},
   "source": [
    "find $Er$ for specific $c_{hi}$ using formula\n",
    "$$Er(h, i) = 1 - \\frac{p_3(y = s_j^* \\vert x_h = c_{hi})}{p_1(x_h = c_{hi})} = 1- \\frac{s_j^*}{p_1(x_h = c_{hi})}$$"
   ]
  },
  {
   "cell_type": "code",
   "execution_count": 12,
   "id": "74994ac7",
   "metadata": {},
   "outputs": [],
   "source": [
    "def get_error_value_for_specific_characteristic(h, chi):\n",
    "    correct_lines = X[X[:, h]==chi]\n",
    "    correct_lines_count = correct_lines.shape[0]\n",
    "    correct_marks, correct_marks_counts = np.unique(Y[X[:, h]==chi], return_counts=True)\n",
    "    most_frequent = np.max(correct_marks_counts)\n",
    "    most_frequent_marks = correct_marks[correct_marks_counts == most_frequent]\n",
    "    return 1 - most_frequent/correct_lines_count"
   ]
  },
  {
   "cell_type": "markdown",
   "id": "92857d84",
   "metadata": {},
   "source": [
    "get minimum for each feature"
   ]
  },
  {
   "cell_type": "code",
   "execution_count": 13,
   "id": "129b6b67",
   "metadata": {},
   "outputs": [
    {
     "data": {
      "text/plain": [
       "array([[8.        , 8.        , 8.        , 8.        , 4.        ,\n",
       "        8.        , 8.        , 1.        , 7.        , 9.        ],\n",
       "       [0.55555556, 0.55555556, 0.63636364, 0.55555556, 0.6875    ,\n",
       "        0.58333333, 0.57142857, 0.66666667, 0.57142857, 0.33333333]])"
      ]
     },
     "execution_count": 13,
     "metadata": {},
     "output_type": "execute_result"
    }
   ],
   "source": [
    "min_c = np.zeros((2, len(C)))\n",
    "for i in range(len(C)):\n",
    "    minimum_error = np.vectorize(lambda x: get_error_value_for_specific_characteristic(i, x))(C[i])\n",
    "    min_c[0, i] = C[i][np.argmin(minimum_error)]\n",
    "    min_c[1, i] = np.min(minimum_error)\n",
    "min_c"
   ]
  },
  {
   "cell_type": "code",
   "execution_count": 14,
   "id": "262e44d6",
   "metadata": {},
   "outputs": [
    {
     "data": {
      "text/latex": [
       "$\\displaystyle x_h^* = 9$"
      ],
      "text/plain": [
       "<IPython.core.display.Math object>"
      ]
     },
     "metadata": {},
     "output_type": "display_data"
    },
    {
     "data": {
      "text/latex": [
       "$\\displaystyle c_{hi}^* = 9.0$"
      ],
      "text/plain": [
       "<IPython.core.display.Math object>"
      ]
     },
     "metadata": {},
     "output_type": "display_data"
    }
   ],
   "source": [
    "xh_star = np.argmin(min_c[1])\n",
    "chi_star = min_c[0][xh_star]\n",
    "display(Math(f\"x_h^* = {xh_star}\"))\n",
    "display(Math(r\"c_{hi}^* = \" + f\"{chi_star}\"))"
   ]
  },
  {
   "cell_type": "code",
   "execution_count": null,
   "id": "a354f48b",
   "metadata": {},
   "outputs": [],
   "source": []
  }
 ],
 "metadata": {
  "kernelspec": {
   "display_name": "Python 3 (ipykernel)",
   "language": "python",
   "name": "python3"
  },
  "language_info": {
   "codemirror_mode": {
    "name": "ipython",
    "version": 3
   },
   "file_extension": ".py",
   "mimetype": "text/x-python",
   "name": "python",
   "nbconvert_exporter": "python",
   "pygments_lexer": "ipython3",
   "version": "3.9.7"
  }
 },
 "nbformat": 4,
 "nbformat_minor": 5
}
