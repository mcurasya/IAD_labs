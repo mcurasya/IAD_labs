{
 "cells": [
  {
   "cell_type": "markdown",
   "id": "81e95225-1523-4c71-a4fd-e1d1df4e53b3",
   "metadata": {},
   "source": []
  },
  {
   "cell_type": "code",
   "execution_count": 40,
   "id": "c3e37df0-deca-4c24-8f42-382cc80c8d88",
   "metadata": {},
   "outputs": [],
   "source": [
    "from sklearn.datasets import make_blobs\n",
    "import numpy as np\n",
    "import matplotlib.pyplot as plt\n",
    "from sklearn.cluster import SpectralClustering\n",
    "from sklearn.metrics import homogeneity_score\n",
    "from sklearn.metrics.cluster import completeness_score\n",
    "from sklearn.metrics.cluster import v_measure_score\n",
    "from sklearn.metrics import homogeneity_completeness_v_measure\n",
    "from sklearn.model_selection import train_test_split"
   ]
  },
  {
   "cell_type": "code",
   "execution_count": 14,
   "id": "7eb23909-4983-4005-9131-675a18920ae7",
   "metadata": {
    "tags": []
   },
   "outputs": [],
   "source": [
    "X, y_true = make_blobs ( n_samples =400, centers =4,\n",
    "cluster_std=0.60, random_state=0)\n",
    "\n",
    "rng = np.random.RandomState(13)\n",
    "X_stretched = np.dot(X, rng.randn(2, 2))\n"
   ]
  },
  {
   "cell_type": "code",
   "execution_count": 15,
   "id": "bd5d443f-ca40-4d0e-a44c-9968b5ff2b0a",
   "metadata": {},
   "outputs": [
    {
     "data": {
      "text/plain": [
       "<matplotlib.collections.PathCollection at 0x7fb70b0aa1c0>"
      ]
     },
     "execution_count": 15,
     "metadata": {},
     "output_type": "execute_result"
    },
    {
     "data": {
      "image/png": "[encoded data removed]",
      "text/plain": [
       "<Figure size 432x288 with 1 Axes>"
      ]
     },
     "metadata": {
      "needs_background": "light"
     },
     "output_type": "display_data"
    }
   ],
   "source": [
    "plt.scatter(X_stretched[:, 0], X_stretched[:, 1])"
   ]
  },
  {
   "cell_type": "code",
   "execution_count": 16,
   "id": "f12c8436-aeb9-43eb-9f02-bde289e6d201",
   "metadata": {},
   "outputs": [],
   "source": [
    "clf = SpectralClustering(n_clusters=4).fit(X_stretched)"
   ]
  },
  {
   "cell_type": "code",
   "execution_count": 17,
   "id": "06f8b73f-8d73-49e6-a844-84b74e3e2e50",
   "metadata": {},
   "outputs": [
    {
     "data": {
      "text/plain": [
       "array([3, 1, 1, 3, 1, 2, 0, 0, 1, 0, 2, 0, 3, 1, 0, 3, 1, 0, 3, 0, 0, 1,\n",
       "       2, 3, 3, 2, 2, 0, 3, 3, 3, 3, 1, 3, 0, 2, 0, 3, 0, 3, 1, 2, 0, 3,\n",
       "       0, 2, 0, 0, 0, 2, 2, 2, 1, 2, 2, 1, 0, 0, 0, 1, 0, 3, 3, 0, 3, 1,\n",
       "       0, 2, 0, 3, 1, 3, 1, 2, 3, 0, 0, 1, 2, 0, 1, 3, 0, 2, 3, 1, 1, 3,\n",
       "       1, 3, 1, 3, 3, 1, 1, 2, 3, 0, 0, 3, 2, 0, 3, 3, 1, 3, 3, 3, 3, 1,\n",
       "       1, 1, 3, 1, 2, 3, 2, 1, 2, 2, 0, 0, 0, 2, 3, 2, 3, 0, 0, 3, 2, 3,\n",
       "       2, 1, 3, 0, 2, 3, 2, 1, 0, 1, 1, 2, 1, 3, 3, 1, 0, 1, 0, 3, 0, 3,\n",
       "       2, 1, 0, 1, 0, 1, 3, 1, 2, 0, 1, 2, 0, 0, 1, 2, 2, 2, 2, 0, 0, 3,\n",
       "       3, 1, 3, 3, 3, 2, 1, 3, 2, 1, 2, 0, 3, 2, 3, 3, 2, 0, 2, 2, 2, 3,\n",
       "       0, 3, 3, 1, 0, 0, 2, 3, 1, 2, 3, 2, 3, 3, 0, 0, 2, 0, 0, 2, 3, 2,\n",
       "       1, 3, 2, 1, 0, 1, 0, 2, 3, 2, 3, 1, 3, 3, 2, 0, 0, 3, 3, 1, 0, 3,\n",
       "       3, 2, 0, 3, 2, 3, 0, 1, 1, 3, 1, 3, 2, 2, 3, 3, 0, 2, 3, 0, 1, 1,\n",
       "       2, 3, 3, 3, 3, 3, 0, 3, 3, 2, 1, 0, 2, 0, 0, 0, 2, 0, 0, 2, 2, 2,\n",
       "       3, 3, 0, 3, 0, 0, 3, 3, 1, 3, 0, 0, 0, 1, 2, 2, 3, 2, 3, 3, 3, 2,\n",
       "       2, 3, 0, 3, 2, 3, 0, 3, 0, 2, 1, 0, 3, 1, 3, 1, 1, 2, 1, 2, 3, 1,\n",
       "       2, 3, 2, 3, 0, 3, 0, 3, 3, 0, 2, 0, 0, 0, 0, 2, 0, 1, 0, 1, 0, 3,\n",
       "       2, 0, 0, 3, 2, 1, 0, 2, 2, 2, 1, 3, 0, 3, 1, 0, 1, 2, 0, 3, 3, 1,\n",
       "       2, 3, 2, 2, 1, 2, 1, 3, 3, 3, 3, 0, 2, 2, 2, 2, 1, 2, 3, 0, 0, 3,\n",
       "       3, 0, 0, 0], dtype=int32)"
      ]
     },
     "execution_count": 17,
     "metadata": {},
     "output_type": "execute_result"
    }
   ],
   "source": [
    "clf.labels_"
   ]
  },
  {
   "cell_type": "code",
   "execution_count": 18,
   "id": "d0d46d8e-5948-415c-9a39-fd1b43ded54d",
   "metadata": {},
   "outputs": [
    {
     "data": {
      "text/plain": [
       "<matplotlib.collections.PathCollection at 0x7fb70ae55490>"
      ]
     },
     "execution_count": 18,
     "metadata": {},
     "output_type": "execute_result"
    },
    {
     "data": {
      "image/png": "[encoded data removed]",
      "text/plain": [
       "<Figure size 432x288 with 1 Axes>"
      ]
     },
     "metadata": {
      "needs_background": "light"
     },
     "output_type": "display_data"
    }
   ],
   "source": [
    "X_0 = X_stretched[clf.labels_==0]\n",
    "X_1 = X_stretched[clf.labels_==1]\n",
    "X_2 = X_stretched[clf.labels_==2]\n",
    "X_3 = X_stretched[clf.labels_==3]\n",
    "\n",
    "plt.scatter(X_0[:, 0], X_0[:, 1])\n",
    "plt.scatter(X_1[:, 0], X_1[:, 1])\n",
    "plt.scatter(X_2[:, 0], X_2[:, 1])\n",
    "plt.scatter(X_3[:, 0], X_3[:, 1])"
   ]
  },
  {
   "cell_type": "markdown",
   "id": "233708ab-42ee-4862-bf6a-f405b7ec8b7b",
   "metadata": {},
   "source": [
    "## metrics by variant"
   ]
  },
  {
   "cell_type": "markdown",
   "id": "c4f03119-d9e1-42d6-b75a-0649e6d73bfd",
   "metadata": {},
   "source": [
    "### homogeneity"
   ]
  },
  {
   "cell_type": "code",
   "execution_count": 19,
   "id": "41055cf6-8a9a-4d1a-87f2-274d9bf67b75",
   "metadata": {},
   "outputs": [
    {
     "data": {
      "text/plain": [
       "0.6711073541209106"
      ]
     },
     "execution_count": 19,
     "metadata": {},
     "output_type": "execute_result"
    }
   ],
   "source": [
    "homogeneity_score(y_true, clf.labels_)"
   ]
  },
  {
   "cell_type": "markdown",
   "id": "2a16995e-f598-4c57-a396-539774b5521f",
   "metadata": {},
   "source": [
    "### completeness"
   ]
  },
  {
   "cell_type": "code",
   "execution_count": 20,
   "id": "654dfe46-54c5-427f-a9ca-04b1fba4570e",
   "metadata": {},
   "outputs": [
    {
     "data": {
      "text/plain": [
       "0.6785308374965295"
      ]
     },
     "execution_count": 20,
     "metadata": {},
     "output_type": "execute_result"
    }
   ],
   "source": [
    "completeness_score(y_true, clf.labels_)"
   ]
  },
  {
   "cell_type": "markdown",
   "id": "fa570eb1-6236-48cd-a261-ff72d845dbc4",
   "metadata": {},
   "source": [
    "### v-measure"
   ]
  },
  {
   "cell_type": "code",
   "execution_count": 21,
   "id": "5eb0aa49-5452-4a6f-9c5f-966bf0d64e31",
   "metadata": {},
   "outputs": [
    {
     "data": {
      "text/plain": [
       "0.6747986799277192"
      ]
     },
     "execution_count": 21,
     "metadata": {},
     "output_type": "execute_result"
    }
   ],
   "source": [
    "v_measure_score(y_true, clf.labels_)"
   ]
  },
  {
   "cell_type": "markdown",
   "id": "bc9fd23f-bb16-496b-aac9-4b88486e586c",
   "metadata": {},
   "source": [
    "## Alternative model 1 (changing affinity parameter)"
   ]
  },
  {
   "cell_type": "code",
   "execution_count": 22,
   "id": "1a994fb9-c611-417b-8e6a-3ae739665248",
   "metadata": {},
   "outputs": [],
   "source": [
    "clf = SpectralClustering(n_clusters=4, affinity=\"nearest_neighbors\").fit(X_stretched)"
   ]
  },
  {
   "cell_type": "code",
   "execution_count": 23,
   "id": "38073d19-6e4c-443e-a63c-2bcf6f1fcee6",
   "metadata": {},
   "outputs": [
    {
     "data": {
      "text/plain": [
       "<matplotlib.collections.PathCollection at 0x7fb70aaf9790>"
      ]
     },
     "execution_count": 23,
     "metadata": {},
     "output_type": "execute_result"
    },
    {
     "data": {
      "image/png": "[encoded data removed]",
      "text/plain": [
       "<Figure size 432x288 with 1 Axes>"
      ]
     },
     "metadata": {
      "needs_background": "light"
     },
     "output_type": "display_data"
    }
   ],
   "source": [
    "X_0 = X_stretched[clf.labels_==0]\n",
    "X_1 = X_stretched[clf.labels_==1]\n",
    "X_2 = X_stretched[clf.labels_==2]\n",
    "X_3 = X_stretched[clf.labels_==3]\n",
    "\n",
    "plt.scatter(X_0[:, 0], X_0[:, 1])\n",
    "plt.scatter(X_1[:, 0], X_1[:, 1])\n",
    "plt.scatter(X_2[:, 0], X_2[:, 1])\n",
    "plt.scatter(X_3[:, 0], X_3[:, 1])"
   ]
  },
  {
   "cell_type": "code",
   "execution_count": 24,
   "id": "61167f14-6173-4572-8990-bc5a961b0639",
   "metadata": {},
   "outputs": [
    {
     "data": {
      "text/plain": [
       "(0.9797477926204754, 0.97980062680703, 0.9797742090014836)"
      ]
     },
     "execution_count": 24,
     "metadata": {},
     "output_type": "execute_result"
    }
   ],
   "source": [
    "homogeneity_completeness_v_measure(y_true, clf.labels_)"
   ]
  },
  {
   "cell_type": "markdown",
   "id": "2e391916-8653-46db-8170-c2f5d81ea991",
   "metadata": {},
   "source": [
    "## Alternative model 2 (adding more clusters)"
   ]
  },
  {
   "cell_type": "code",
   "execution_count": 28,
   "id": "f17df057-04d6-4ec8-b51a-539d284f0028",
   "metadata": {},
   "outputs": [],
   "source": [
    "clf = SpectralClustering(n_clusters=6).fit(X_stretched)"
   ]
  },
  {
   "cell_type": "code",
   "execution_count": 33,
   "id": "28e8ce40-2ea2-465c-8cbc-b85a8d40b5ce",
   "metadata": {},
   "outputs": [
    {
     "data": {
      "text/plain": [
       "<matplotlib.collections.PathCollection at 0x7fb70a7a45e0>"
      ]
     },
     "execution_count": 33,
     "metadata": {},
     "output_type": "execute_result"
    },
    {
     "data": {
      "image/png": "[encoded data removed]",
      "text/plain": [
       "<Figure size 432x288 with 1 Axes>"
      ]
     },
     "metadata": {
      "needs_background": "light"
     },
     "output_type": "display_data"
    }
   ],
   "source": [
    "X_0 = X_stretched[clf.labels_==0]\n",
    "X_1 = X_stretched[clf.labels_==1]\n",
    "X_2 = X_stretched[clf.labels_==2]\n",
    "X_3 = X_stretched[clf.labels_==3]\n",
    "X_4 = X_stretched[clf.labels_==4]\n",
    "X_5 = X_stretched[clf.labels_==5]\n",
    "\n",
    "plt.scatter(X_0[:, 0], X_0[:, 1])\n",
    "plt.scatter(X_1[:, 0], X_1[:, 1])\n",
    "plt.scatter(X_2[:, 0], X_2[:, 1])\n",
    "plt.scatter(X_3[:, 0], X_3[:, 1])\n",
    "plt.scatter(X_4[:, 0], X_4[:, 1])\n",
    "plt.scatter(X_5[:, 0], X_5[:, 1])"
   ]
  },
  {
   "cell_type": "code",
   "execution_count": 30,
   "id": "7f0c77ce-560e-47f1-822b-57f9d8cec17f",
   "metadata": {},
   "outputs": [
    {
     "data": {
      "text/plain": [
       "(0.7821099969212004, 0.6313334000503513, 0.6986797838917201)"
      ]
     },
     "execution_count": 30,
     "metadata": {},
     "output_type": "execute_result"
    }
   ],
   "source": [
    "homogeneity_completeness_v_measure(y_true, clf.labels_)"
   ]
  },
  {
   "cell_type": "markdown",
   "id": "a81194fa-7d37-421d-aeb8-5ce252a54c51",
   "metadata": {},
   "source": [
    "## Alternative model 3 (less clusters with nearestt neighbours affinity)"
   ]
  },
  {
   "cell_type": "code",
   "execution_count": 34,
   "id": "9910f48b-6596-47aa-9fcb-332872537967",
   "metadata": {},
   "outputs": [],
   "source": [
    "clf = SpectralClustering(n_clusters=3, affinity=\"nearest_neighbors\").fit(X_stretched)"
   ]
  },
  {
   "cell_type": "code",
   "execution_count": 35,
   "id": "f88cfcdf-7c53-4e0d-98bd-da78f4f1d75f",
   "metadata": {},
   "outputs": [
    {
     "data": {
      "text/plain": [
       "<matplotlib.collections.PathCollection at 0x7fb70a68ceb0>"
      ]
     },
     "execution_count": 37,
     "metadata": {},
     "output_type": "execute_result"
    },
    {
     "data": {
      "image/png": "[encoded data removed]",
      "text/plain": [
       "<Figure size 432x288 with 1 Axes>"
      ]
     },
     "metadata": {
      "needs_background": "light"
     },
     "output_type": "display_data"
    }
   ],
   "source": [
    "X_0 = X_stretched[clf.labels_==0]\n",
    "X_1 = X_stretched[clf.labels_==1]\n",
    "X_2 = X_stretched[clf.labels_==2]\n",
    "\n",
    "plt.scatter(X_0[:, 0], X_0[:, 1])\n",
    "plt.scatter(X_1[:, 0], X_1[:, 1])\n",
    "plt.scatter(X_2[:, 0], X_2[:, 1])"
   ]
  },
  {
   "cell_type": "code",
   "execution_count": 38,
   "id": "6e249b9c-61c6-4329-a8a4-bd8534f7589c",
   "metadata": {},
   "outputs": [
    {
     "data": {
      "text/plain": [
       "(0.6787265699714619, 0.9069351881663482, 0.7764089740973238)"
      ]
     },
     "execution_count": 38,
     "metadata": {},
     "output_type": "execute_result"
    }
   ],
   "source": [
    "homogeneity_completeness_v_measure(y_true, clf.labels_)"
   ]
  },
  {
   "cell_type": "markdown",
   "id": "495a1398-6b3f-4c1a-995e-b009317037d3",
   "metadata": {},
   "source": [
    "# Чи є розбиття стабiльним на пiдвибiрках даних?"
   ]
  },
  {
   "cell_type": "code",
   "execution_count": 41,
   "id": "b8523bc5-90f6-4b48-8f77-203b18b99d0d",
   "metadata": {},
   "outputs": [],
   "source": [
    "X_train, X_test, y_true_train, y_true_test = train_test_split(X_stretched, y_true, test_size=0.6)"
   ]
  },
  {
   "cell_type": "code",
   "execution_count": 42,
   "id": "00d58314-37b3-4bf2-ad30-257645aae94b",
   "metadata": {},
   "outputs": [],
   "source": [
    "clf = SpectralClustering(n_clusters=4, affinity=\"nearest_neighbors\").fit(X_train)"
   ]
  },
  {
   "cell_type": "code",
   "execution_count": 44,
   "id": "74051132-0d38-4891-8cb2-4794f6816801",
   "metadata": {},
   "outputs": [
    {
     "data": {
      "text/plain": [
       "<matplotlib.collections.PathCollection at 0x7fb70b019e20>"
      ]
     },
     "execution_count": 44,
     "metadata": {},
     "output_type": "execute_result"
    },
    {
     "data": {
      "image/png": "[encoded data removed]",
      "text/plain": [
       "<Figure size 432x288 with 1 Axes>"
      ]
     },
     "metadata": {
      "needs_background": "light"
     },
     "output_type": "display_data"
    }
   ],
   "source": [
    "X_0 = X_train[clf.labels_==0]\n",
    "X_1 = X_train[clf.labels_==1]\n",
    "X_2 = X_train[clf.labels_==2]\n",
    "X_3 = X_train[clf.labels_==3]\n",
    "\n",
    "plt.scatter(X_0[:, 0], X_0[:, 1])\n",
    "plt.scatter(X_1[:, 0], X_1[:, 1])\n",
    "plt.scatter(X_2[:, 0], X_2[:, 1])\n",
    "plt.scatter(X_3[:, 0], X_3[:, 1])"
   ]
  },
  {
   "cell_type": "markdown",
   "id": "aa9b958d-1d43-467a-9d8b-a77322f959e0",
   "metadata": {},
   "source": [
    "# Стабільний відносно підвибірок"
   ]
  },
  {
   "cell_type": "code",
   "execution_count": null,
   "id": "1bcd4b5a-c689-4f0f-a5d4-cf6e00d44c84",
   "metadata": {},
   "outputs": [],
   "source": []
  }
 ],
 "metadata": {
  "kernelspec": {
   "display_name": "Python 3 (ipykernel)",
   "language": "python",
   "name": "python3"
  },
  "language_info": {
   "codemirror_mode": {
    "name": "ipython",
    "version": 3
   },
   "file_extension": ".py",
   "mimetype": "text/x-python",
   "name": "python",
   "nbconvert_exporter": "python",
   "pygments_lexer": "ipython3",
   "version": "3.9.9"
  }
 },
 "nbformat": 4,
 "nbformat_minor": 5
}
